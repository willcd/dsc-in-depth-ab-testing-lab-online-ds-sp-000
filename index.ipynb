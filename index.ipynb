{
 "cells": [
  {
   "cell_type": "markdown",
   "metadata": {},
   "source": [
    "# In Depth A/B Testing - Lab\n",
    "\n",
    "## Introduction\n",
    "\n",
    "In this lab, you'll explore a survey from Kaggle regarding budding data scientists. With this, you'll form some initial hypotheses, and test them using the tools you've acquired to date. \n",
    "\n",
    "## Objectives\n",
    "\n",
    "You will be able to:\n",
    "* Conduct t-tests and an ANOVA on a real-world dataset and interpret the results"
   ]
  },
  {
   "cell_type": "markdown",
   "metadata": {},
   "source": [
    "## Load the Dataset and Perform a Brief Exploration\n",
    "\n",
    "The data is stored in a file called **multipleChoiceResponses_cleaned.csv**. Feel free to check out the original dataset referenced at the bottom of this lab, although this cleaned version will undoubtedly be easier to work with. Additionally, meta-data regarding the questions is stored in a file name **schema.csv**. Load in the data itself as a Pandas DataFrame, and take a moment to briefly get acquainted with it.\n",
    "\n",
    "> Note: If you can't get the file to load properly, try changing the encoding format as in `encoding='latin1'`"
   ]
  },
  {
   "cell_type": "code",
   "execution_count": 1,
   "metadata": {
    "scrolled": true
   },
   "outputs": [
    {
     "data": {
      "text/html": [
       "<div>\n",
       "<style scoped>\n",
       "    .dataframe tbody tr th:only-of-type {\n",
       "        vertical-align: middle;\n",
       "    }\n",
       "\n",
       "    .dataframe tbody tr th {\n",
       "        vertical-align: top;\n",
       "    }\n",
       "\n",
       "    .dataframe thead th {\n",
       "        text-align: right;\n",
       "    }\n",
       "</style>\n",
       "<table border=\"1\" class=\"dataframe\">\n",
       "  <thead>\n",
       "    <tr style=\"text-align: right;\">\n",
       "      <th></th>\n",
       "      <th>GenderSelect</th>\n",
       "      <th>Country</th>\n",
       "      <th>Age</th>\n",
       "      <th>EmploymentStatus</th>\n",
       "      <th>StudentStatus</th>\n",
       "      <th>LearningDataScience</th>\n",
       "      <th>CodeWriter</th>\n",
       "      <th>CareerSwitcher</th>\n",
       "      <th>CurrentJobTitleSelect</th>\n",
       "      <th>TitleFit</th>\n",
       "      <th>...</th>\n",
       "      <th>JobFactorTitle</th>\n",
       "      <th>JobFactorCompanyFunding</th>\n",
       "      <th>JobFactorImpact</th>\n",
       "      <th>JobFactorRemote</th>\n",
       "      <th>JobFactorIndustry</th>\n",
       "      <th>JobFactorLeaderReputation</th>\n",
       "      <th>JobFactorDiversity</th>\n",
       "      <th>JobFactorPublishingOpportunity</th>\n",
       "      <th>exchangeRate</th>\n",
       "      <th>AdjustedCompensation</th>\n",
       "    </tr>\n",
       "  </thead>\n",
       "  <tbody>\n",
       "    <tr>\n",
       "      <th>0</th>\n",
       "      <td>Non-binary, genderqueer, or gender non-conforming</td>\n",
       "      <td>NaN</td>\n",
       "      <td>NaN</td>\n",
       "      <td>Employed full-time</td>\n",
       "      <td>NaN</td>\n",
       "      <td>NaN</td>\n",
       "      <td>Yes</td>\n",
       "      <td>NaN</td>\n",
       "      <td>DBA/Database Engineer</td>\n",
       "      <td>Fine</td>\n",
       "      <td>...</td>\n",
       "      <td>NaN</td>\n",
       "      <td>NaN</td>\n",
       "      <td>NaN</td>\n",
       "      <td>NaN</td>\n",
       "      <td>NaN</td>\n",
       "      <td>NaN</td>\n",
       "      <td>NaN</td>\n",
       "      <td>NaN</td>\n",
       "      <td>NaN</td>\n",
       "      <td>NaN</td>\n",
       "    </tr>\n",
       "    <tr>\n",
       "      <th>1</th>\n",
       "      <td>Female</td>\n",
       "      <td>United States</td>\n",
       "      <td>30.0</td>\n",
       "      <td>Not employed, but looking for work</td>\n",
       "      <td>NaN</td>\n",
       "      <td>NaN</td>\n",
       "      <td>NaN</td>\n",
       "      <td>NaN</td>\n",
       "      <td>NaN</td>\n",
       "      <td>NaN</td>\n",
       "      <td>...</td>\n",
       "      <td>NaN</td>\n",
       "      <td>NaN</td>\n",
       "      <td>NaN</td>\n",
       "      <td>NaN</td>\n",
       "      <td>NaN</td>\n",
       "      <td>Somewhat important</td>\n",
       "      <td>NaN</td>\n",
       "      <td>NaN</td>\n",
       "      <td>NaN</td>\n",
       "      <td>NaN</td>\n",
       "    </tr>\n",
       "    <tr>\n",
       "      <th>2</th>\n",
       "      <td>Male</td>\n",
       "      <td>Canada</td>\n",
       "      <td>28.0</td>\n",
       "      <td>Not employed, but looking for work</td>\n",
       "      <td>NaN</td>\n",
       "      <td>NaN</td>\n",
       "      <td>NaN</td>\n",
       "      <td>NaN</td>\n",
       "      <td>NaN</td>\n",
       "      <td>NaN</td>\n",
       "      <td>...</td>\n",
       "      <td>Very Important</td>\n",
       "      <td>Very Important</td>\n",
       "      <td>Very Important</td>\n",
       "      <td>Very Important</td>\n",
       "      <td>Very Important</td>\n",
       "      <td>Very Important</td>\n",
       "      <td>Very Important</td>\n",
       "      <td>Very Important</td>\n",
       "      <td>NaN</td>\n",
       "      <td>NaN</td>\n",
       "    </tr>\n",
       "    <tr>\n",
       "      <th>3</th>\n",
       "      <td>Male</td>\n",
       "      <td>United States</td>\n",
       "      <td>56.0</td>\n",
       "      <td>Independent contractor, freelancer, or self-em...</td>\n",
       "      <td>NaN</td>\n",
       "      <td>NaN</td>\n",
       "      <td>Yes</td>\n",
       "      <td>NaN</td>\n",
       "      <td>Operations Research Practitioner</td>\n",
       "      <td>Poorly</td>\n",
       "      <td>...</td>\n",
       "      <td>NaN</td>\n",
       "      <td>NaN</td>\n",
       "      <td>NaN</td>\n",
       "      <td>NaN</td>\n",
       "      <td>NaN</td>\n",
       "      <td>NaN</td>\n",
       "      <td>NaN</td>\n",
       "      <td>NaN</td>\n",
       "      <td>1.0</td>\n",
       "      <td>250000.0</td>\n",
       "    </tr>\n",
       "    <tr>\n",
       "      <th>4</th>\n",
       "      <td>Male</td>\n",
       "      <td>Taiwan</td>\n",
       "      <td>38.0</td>\n",
       "      <td>Employed full-time</td>\n",
       "      <td>NaN</td>\n",
       "      <td>NaN</td>\n",
       "      <td>Yes</td>\n",
       "      <td>NaN</td>\n",
       "      <td>Computer Scientist</td>\n",
       "      <td>Fine</td>\n",
       "      <td>...</td>\n",
       "      <td>NaN</td>\n",
       "      <td>NaN</td>\n",
       "      <td>NaN</td>\n",
       "      <td>NaN</td>\n",
       "      <td>NaN</td>\n",
       "      <td>NaN</td>\n",
       "      <td>NaN</td>\n",
       "      <td>NaN</td>\n",
       "      <td>NaN</td>\n",
       "      <td>NaN</td>\n",
       "    </tr>\n",
       "  </tbody>\n",
       "</table>\n",
       "<p>5 rows × 230 columns</p>\n",
       "</div>"
      ],
      "text/plain": [
       "                                        GenderSelect        Country   Age  \\\n",
       "0  Non-binary, genderqueer, or gender non-conforming            NaN   NaN   \n",
       "1                                             Female  United States  30.0   \n",
       "2                                               Male         Canada  28.0   \n",
       "3                                               Male  United States  56.0   \n",
       "4                                               Male         Taiwan  38.0   \n",
       "\n",
       "                                    EmploymentStatus StudentStatus  \\\n",
       "0                                 Employed full-time           NaN   \n",
       "1                 Not employed, but looking for work           NaN   \n",
       "2                 Not employed, but looking for work           NaN   \n",
       "3  Independent contractor, freelancer, or self-em...           NaN   \n",
       "4                                 Employed full-time           NaN   \n",
       "\n",
       "  LearningDataScience CodeWriter CareerSwitcher  \\\n",
       "0                 NaN        Yes            NaN   \n",
       "1                 NaN        NaN            NaN   \n",
       "2                 NaN        NaN            NaN   \n",
       "3                 NaN        Yes            NaN   \n",
       "4                 NaN        Yes            NaN   \n",
       "\n",
       "              CurrentJobTitleSelect TitleFit  ...  JobFactorTitle  \\\n",
       "0             DBA/Database Engineer     Fine  ...             NaN   \n",
       "1                               NaN      NaN  ...             NaN   \n",
       "2                               NaN      NaN  ...  Very Important   \n",
       "3  Operations Research Practitioner   Poorly  ...             NaN   \n",
       "4                Computer Scientist     Fine  ...             NaN   \n",
       "\n",
       "  JobFactorCompanyFunding JobFactorImpact JobFactorRemote JobFactorIndustry  \\\n",
       "0                     NaN             NaN             NaN               NaN   \n",
       "1                     NaN             NaN             NaN               NaN   \n",
       "2          Very Important  Very Important  Very Important    Very Important   \n",
       "3                     NaN             NaN             NaN               NaN   \n",
       "4                     NaN             NaN             NaN               NaN   \n",
       "\n",
       "  JobFactorLeaderReputation JobFactorDiversity JobFactorPublishingOpportunity  \\\n",
       "0                       NaN                NaN                            NaN   \n",
       "1        Somewhat important                NaN                            NaN   \n",
       "2            Very Important     Very Important                 Very Important   \n",
       "3                       NaN                NaN                            NaN   \n",
       "4                       NaN                NaN                            NaN   \n",
       "\n",
       "  exchangeRate AdjustedCompensation  \n",
       "0          NaN                  NaN  \n",
       "1          NaN                  NaN  \n",
       "2          NaN                  NaN  \n",
       "3          1.0             250000.0  \n",
       "4          NaN                  NaN  \n",
       "\n",
       "[5 rows x 230 columns]"
      ]
     },
     "execution_count": 1,
     "metadata": {},
     "output_type": "execute_result"
    }
   ],
   "source": [
    "#Your code here\n",
    "import pandas as pd\n",
    "import numpy as np\n",
    "import matplotlib.pyplot as plt\n",
    "import seaborn as sns\n",
    "sns.set_style('darkgrid')\n",
    "%matplotlib inline\n",
    "\n",
    "import warnings\n",
    "warnings.filterwarnings(\"ignore\")\n",
    "\n",
    "survey = pd.read_csv('multipleChoiceResponses_cleaned.csv', encoding='latin1')\n",
    "metadata = pd.read_csv('schema.csv')\n",
    "survey.head()"
   ]
  },
  {
   "cell_type": "markdown",
   "metadata": {},
   "source": [
    "## Wages and Education\n",
    "\n",
    "You've been asked to determine whether education is impactful to salary. Develop a hypothesis test to compare the salaries of those with Master's degrees to those with Bachelor's degrees. Are the two statistically different according to your results?\n",
    "\n",
    "> Note: The relevant features are stored in the 'FormalEducation' and 'AdjustedCompensation' features.\n",
    "\n",
    "You may import the functions stored in the `flatiron_stats.py` file to help perform your hypothesis tests. It contains the stats functions that you previously coded: `welch_t(a,b)`, `welch_df(a, b)`, and `p_value(a, b, two_sided=False)`. \n",
    "\n",
    "Note that `scipy.stats.ttest_ind(a, b, equal_var=False)` performs a two-sided Welch's t-test and that p-values derived from two-sided tests are two times the p-values derived from one-sided tests. See the [documentation](https://docs.scipy.org/doc/scipy/reference/generated/scipy.stats.ttest_ind.html) for more information.    "
   ]
  },
  {
   "cell_type": "code",
   "execution_count": 2,
   "metadata": {
    "scrolled": true
   },
   "outputs": [
    {
     "name": "stdout",
     "output_type": "stream",
     "text": [
      "Flatiron test p-value: 0.33077639451272445 | Scipy t-test p-value: 0.33077639451272445\n"
     ]
    }
   ],
   "source": [
    "#Your code here\n",
    "ed_comp = survey[['FormalEducation','AdjustedCompensation']].copy().dropna()\n",
    "\n",
    "import scipy\n",
    "from flatiron_stats import welch_t, welch_df, p_value_welch_ttest\n",
    "\n",
    "bach = ed_comp[ed_comp['FormalEducation'] == \"Bachelor's degree\"]['AdjustedCompensation'].copy()\n",
    "mast = ed_comp[ed_comp['FormalEducation'] == \"Master's degree\"]['AdjustedCompensation'].copy()\n",
    "\n",
    "flatiron_p = p_value_welch_ttest(mast, bach)\n",
    "\n",
    "results = scipy.stats.ttest_ind(mast, bach, equal_var=False)\n",
    "t_stat = results[0]\n",
    "one_sided_p = results[1] / 2\n",
    "print(f'Flatiron test p-value: {flatiron_p} | Scipy t-test p-value: {one_sided_p}')"
   ]
  },
  {
   "cell_type": "code",
   "execution_count": 3,
   "metadata": {},
   "outputs": [
    {
     "data": {
      "image/png": "[encoded data removed]",
      "text/plain": [
       "<Figure size 864x576 with 1 Axes>"
      ]
     },
     "metadata": {
      "needs_background": "light"
     },
     "output_type": "display_data"
    }
   ],
   "source": [
    "# Distribution Visualization\n",
    "\n",
    "plt.figure(figsize=(12,8))\n",
    "sns.distplot(bach, label=\"Bachelor's Degree\")\n",
    "sns.distplot(mast, label=\"Master's Degree\")\n",
    "plt.legend();"
   ]
  },
  {
   "cell_type": "code",
   "execution_count": 4,
   "metadata": {},
   "outputs": [],
   "source": [
    "bach_data = {}\n",
    "mast_data = {}\n",
    "\n",
    "for data in [(bach_data, bach), (mast_data, mast)]:\n",
    "    data[0]['median'] = round(data[1].median(), 2)\n",
    "    data[0]['mean'] = round(data[1].mean(), 2)\n",
    "    data[0]['sd'] = round(data[1].std(), 2)\n",
    "    data[0]['sample_size'] = round(len(data[1]), 2)"
   ]
  },
  {
   "cell_type": "code",
   "execution_count": 5,
   "metadata": {},
   "outputs": [
    {
     "name": "stdout",
     "output_type": "stream",
     "text": [
      "Median values: \tB: 38399.4 | M: 53812.17\n",
      "Mean values: \tB: 64887.1 | M: 69139.9\n",
      "Std. Dev.: \tB: 306935.87 | M: 135527.21\n",
      "Sample size: \tB: 1107 | M: 1990\n",
      "Welch's t-test p-value: 0.33077639451272445\n"
     ]
    }
   ],
   "source": [
    "print(f\"Median values: \\tB: {bach_data['median']} | M: {mast_data['median']}\")\n",
    "print(f\"Mean values: \\tB: {bach_data['mean']} | M: {mast_data['mean']}\")\n",
    "print(f\"Std. Dev.: \\tB: {bach_data['sd']} | M: {mast_data['sd']}\")\n",
    "print(f\"Sample size: \\tB: {bach_data['sample_size']} | M: {mast_data['sample_size']}\")\n",
    "print(f\"Welch's t-test p-value: {flatiron_p}\")"
   ]
  },
  {
   "cell_type": "code",
   "execution_count": 6,
   "metadata": {
    "scrolled": false
   },
   "outputs": [
    {
     "name": "stdout",
     "output_type": "stream",
     "text": [
      "0.5th percentile: B:38399.0 | M:53812.0 \n",
      "0.51th percentile: B:40000.0 | M:53847.0 \n",
      "0.52th percentile: B:40662.0 | M:55028.0 \n",
      "0.53th percentile: B:43083.0 | M:56940.0 \n",
      "0.54th percentile: B:45000.0 | M:59791.0 \n",
      "0.55th percentile: B:46704.0 | M:59791.0 \n",
      "0.56th percentile: B:48000.0 | M:60000.0 \n",
      "0.57th percentile: B:50000.0 | M:61940.0 \n",
      "0.58th percentile: B:50120.0 | M:63756.0 \n",
      "0.59th percentile: B:52985.0 | M:65000.0 \n",
      "0.6th percentile: B:55000.0 | M:66209.0 \n",
      "0.61th percentile: B:57658.0 | M:68000.0 \n",
      "0.62th percentile: B:58661.0 | M:70000.0 \n",
      "0.63th percentile: B:60000.0 | M:71052.0 \n",
      "0.64th percentile: B:61036.0 | M:71750.0 \n",
      "0.65th percentile: B:62456.0 | M:73859.0 \n",
      "0.66th percentile: B:65000.0 | M:75000.0 \n",
      "0.67th percentile: B:65770.0 | M:77470.0 \n",
      "0.68th percentile: B:67950.0 | M:79000.0 \n",
      "0.69th percentile: B:70000.0 | M:80000.0 \n",
      "0.7th percentile: B:71750.0 | M:83000.0 \n",
      "0.71th percentile: B:73630.0 | M:84402.0 \n",
      "0.72th percentile: B:75000.0 | M:86000.0 \n",
      "0.73th percentile: B:77729.0 | M:88950.0 \n",
      "0.74th percentile: B:80000.0 | M:90000.0 \n",
      "0.75th percentile: B:80231.0 | M:92000.0 \n",
      "0.76th percentile: B:84870.0 | M:95000.0 \n",
      "0.77th percentile: B:85000.0 | M:95666.0 \n",
      "0.78th percentile: B:88173.0 | M:99565.0 \n",
      "0.79th percentile: B:90000.0 | M:100000.0 \n",
      "0.8th percentile: B:93233.0 | M:103000.0 \n",
      "0.81th percentile: B:95573.0 | M:107009.0 \n",
      "0.82th percentile: B:99276.0 | M:110000.0 \n",
      "0.83th percentile: B:100000.0 | M:111504.0 \n",
      "0.84th percentile: B:103040.0 | M:115240.0 \n",
      "0.85th percentile: B:105935.0 | M:119583.0 \n",
      "0.86th percentile: B:110000.0 | M:120000.0 \n",
      "0.87th percentile: B:112000.0 | M:124720.0 \n",
      "0.88th percentile: B:115000.0 | M:129421.0 \n",
      "0.89th percentile: B:120000.0 | M:130000.0 \n",
      "0.9th percentile: B:120346.0 | M:135000.0 \n",
      "0.91th percentile: B:126460.0 | M:140000.0 \n",
      "0.92th percentile: B:132615.0 | M:149640.0 \n",
      "0.93th percentile: B:140000.0 | M:150000.0 \n",
      "0.94th percentile: B:143409.0 | M:160000.0 \n",
      "0.95th percentile: B:150000.0 | M:166779.0 \n",
      "0.96th percentile: B:179850.0 | M:180000.0 \n",
      "0.97th percentile: B:195000.0 | M:200000.0 \n",
      "0.98th percentile: B:200000.0 | M:211100.0 \n",
      "0.99th percentile: B:250000.0 | M:250000.0 \n",
      "1.0th percentile: B:9999999.0 | M:4498900.0 \n"
     ]
    }
   ],
   "source": [
    "# Check out percentiles 50-100\n",
    "for q in range(50,101):\n",
    "    print(f\"{q/100}th percentile: B:{round(bach.quantile(q=q/100),0)} | M:{round(mast.quantile(q=q/100), 0)} \")"
   ]
  },
  {
   "cell_type": "code",
   "execution_count": 7,
   "metadata": {},
   "outputs": [
    {
     "name": "stdout",
     "output_type": "stream",
     "text": [
      "> 250000: B: 11 | M: 17\n",
      "> 300000: B: 10 | M: 10\n",
      "> 350000: B: 8 | M: 7\n",
      "> 400000: B: 5 | M: 7\n",
      "> 450000: B: 5 | M: 7\n",
      "> 500000: B: 4 | M: 5\n",
      "> 550000: B: 3 | M: 5\n",
      "> 600000: B: 3 | M: 4\n",
      "> 650000: B: 3 | M: 4\n",
      "> 700000: B: 3 | M: 4\n",
      "> 750000: B: 3 | M: 4\n",
      "> 800000: B: 3 | M: 4\n",
      "> 850000: B: 3 | M: 4\n",
      "> 900000: B: 3 | M: 4\n",
      "> 950000: B: 3 | M: 4\n",
      "> 1000000: B: 1 | M: 3\n"
     ]
    }
   ],
   "source": [
    "# Check very high compensation value thresholds\n",
    "# To see how many values are above certain compensation amounts\n",
    "for threshold in range(250000, 1000001, 50000):\n",
    "    print(f\"> {threshold}: B: {len(bach[bach>threshold])} | M: {len(mast[mast>threshold])}\")"
   ]
  },
  {
   "cell_type": "code",
   "execution_count": 8,
   "metadata": {},
   "outputs": [],
   "source": [
    "# Thus, I'll cut off above 300,000; this leaves off 10 entries for each category\n",
    "# 10 entries is less than 1% of either category\n",
    "\n",
    "bach_cutoff = bach[bach<=300000].copy()\n",
    "mast_cutoff = mast[mast<=300000].copy()"
   ]
  },
  {
   "cell_type": "code",
   "execution_count": 9,
   "metadata": {},
   "outputs": [
    {
     "name": "stdout",
     "output_type": "stream",
     "text": [
      "Median values: \tB: 37488.0 | M: 53248.45\n",
      "Mean values: \tB: 51968.52 | M: 63123.54\n",
      "Std. Dev.: \tB: 49806.08 | M: 52637.46\n",
      "Sample size: \tB: 1097 | M: 1980\n",
      "Welch's t-test p-value: 3.1432543234899413e-09\n"
     ]
    }
   ],
   "source": [
    "# Re-run t-test, and check values:\n",
    "\n",
    "flatiron_p = p_value_welch_ttest(bach_cutoff, mast_cutoff)\n",
    "\n",
    "for data in [(bach_data, bach_cutoff), (mast_data, mast_cutoff)]:\n",
    "    data[0]['median'] = round(data[1].median(), 2)\n",
    "    data[0]['mean'] = round(data[1].mean(), 2)\n",
    "    data[0]['sd'] = round(data[1].std(), 2)\n",
    "    data[0]['sample_size'] = round(len(data[1]), 2)\n",
    "\n",
    "print(f\"Median values: \\tB: {bach_data['median']} | M: {mast_data['median']}\")\n",
    "print(f\"Mean values: \\tB: {bach_data['mean']} | M: {mast_data['mean']}\")\n",
    "print(f\"Std. Dev.: \\tB: {bach_data['sd']} | M: {mast_data['sd']}\")\n",
    "print(f\"Sample size: \\tB: {bach_data['sample_size']} | M: {mast_data['sample_size']}\")\n",
    "print(f\"Welch's t-test p-value: {flatiron_p}\")"
   ]
  },
  {
   "cell_type": "code",
   "execution_count": 10,
   "metadata": {},
   "outputs": [
    {
     "data": {
      "image/png": "[encoded data removed]",
      "text/plain": [
       "<Figure size 864x576 with 1 Axes>"
      ]
     },
     "metadata": {
      "needs_background": "light"
     },
     "output_type": "display_data"
    }
   ],
   "source": [
    "# Check distribution of samples w/o outliers\n",
    "\n",
    "plt.figure(figsize=(12,8))\n",
    "sns.distplot(bach_cutoff, label=\"Bachelor's Degree\")\n",
    "sns.distplot(mast_cutoff, label=\"Master's Degree\")\n",
    "plt.legend();"
   ]
  },
  {
   "cell_type": "markdown",
   "metadata": {},
   "source": [
    "## Wages and Education II\n",
    "\n",
    "Now perform a similar statistical test comparing the AdjustedCompensation of those with Bachelor's degrees and those with Doctorates. If you haven't already, be sure to explore the distribution of the AdjustedCompensation feature for any anomalies. "
   ]
  },
  {
   "cell_type": "code",
   "execution_count": 11,
   "metadata": {},
   "outputs": [],
   "source": [
    "#Your code here\n",
    "bach = ed_comp[ed_comp['FormalEducation'] == \"Bachelor's degree\"]['AdjustedCompensation'].copy()\n",
    "doct = ed_comp[ed_comp['FormalEducation'] == \"Doctoral degree\"]['AdjustedCompensation'].copy()"
   ]
  },
  {
   "cell_type": "code",
   "execution_count": 12,
   "metadata": {},
   "outputs": [
    {
     "name": "stdout",
     "output_type": "stream",
     "text": [
      "Median values: \tB: 38399.4 | D: 74131.92\n",
      "Mean values: \tB: 64887.1 | D: 29566175.76\n",
      "Std. Dev.: \tB: 306935.87 | D: 909998082.33\n",
      "Sample size: \tB: 1107 | D: 967\n",
      "Welch's t-test p-value: 0.15682381994720251\n"
     ]
    }
   ],
   "source": [
    "# Raw data analysis\n",
    "\n",
    "flatiron_p = p_value_welch_ttest(bach, doct)\n",
    "\n",
    "bach_data = {}\n",
    "doct_data = {}\n",
    "\n",
    "for data in [(bach_data, bach), (doct_data, doct)]:\n",
    "    data[0]['median'] = round(data[1].median(), 2)\n",
    "    data[0]['mean'] = round(data[1].mean(), 2)\n",
    "    data[0]['sd'] = round(data[1].std(), 2)\n",
    "    data[0]['sample_size'] = round(len(data[1]), 2)\n",
    "\n",
    "print(f\"Median values: \\tB: {bach_data['median']} | D: {doct_data['median']}\")\n",
    "print(f\"Mean values: \\tB: {bach_data['mean']} | D: {doct_data['mean']}\")\n",
    "print(f\"Std. Dev.: \\tB: {bach_data['sd']} | D: {doct_data['sd']}\")\n",
    "print(f\"Sample size: \\tB: {bach_data['sample_size']} | D: {doct_data['sample_size']}\")\n",
    "print(f\"Welch's t-test p-value: {flatiron_p}\")"
   ]
  },
  {
   "cell_type": "code",
   "execution_count": 13,
   "metadata": {},
   "outputs": [
    {
     "name": "stdout",
     "output_type": "stream",
     "text": [
      "Median values: \tB: 37488.0 | D: 72266.16\n",
      "Mean values: \tB: 51968.52 | D: 83440.21\n",
      "Std. Dev.: \tB: 49806.08 | D: 59719.83\n",
      "Sample size: \tB: 1097 | D: 954\n",
      "Welch's t-test p-value: 0.0\n"
     ]
    }
   ],
   "source": [
    "# Let's try with the same cutoff\n",
    "\n",
    "threshold = 300000\n",
    "\n",
    "b2 = bach[bach<=300000]\n",
    "d2 = doct[doct<=300000]\n",
    "\n",
    "flatiron_p = p_value_welch_ttest(b2, d2)\n",
    "\n",
    "for data in [(bach_data, b2), (doct_data, d2)]:\n",
    "    data[0]['median'] = round(data[1].median(), 2)\n",
    "    data[0]['mean'] = round(data[1].mean(), 2)\n",
    "    data[0]['sd'] = round(data[1].std(), 2)\n",
    "    data[0]['sample_size'] = round(len(data[1]), 2)\n",
    "\n",
    "print(f\"Median values: \\tB: {bach_data['median']} | D: {doct_data['median']}\")\n",
    "print(f\"Mean values: \\tB: {bach_data['mean']} | D: {doct_data['mean']}\")\n",
    "print(f\"Std. Dev.: \\tB: {bach_data['sd']} | D: {doct_data['sd']}\")\n",
    "print(f\"Sample size: \\tB: {bach_data['sample_size']} | D: {doct_data['sample_size']}\")\n",
    "print(f\"Welch's t-test p-value: {flatiron_p}\")"
   ]
  },
  {
   "cell_type": "code",
   "execution_count": 14,
   "metadata": {},
   "outputs": [
    {
     "data": {
      "image/png": "[encoded data removed]",
      "text/plain": [
       "<Figure size 864x576 with 1 Axes>"
      ]
     },
     "metadata": {
      "needs_background": "light"
     },
     "output_type": "display_data"
    }
   ],
   "source": [
    "# Check distribution of samples w/o outliers\n",
    "\n",
    "plt.figure(figsize=(12,8))\n",
    "sns.distplot(b2, label=\"Bachelor's Degree\")\n",
    "sns.distplot(d2, label=\"Doctoral Degree\")\n",
    "plt.legend();"
   ]
  },
  {
   "cell_type": "markdown",
   "metadata": {},
   "source": [
    "## Wages and Education III\n",
    "\n",
    "Remember the multiple comparisons problem; rather than continuing on like this, perform an ANOVA test between the various 'FormalEducation' categories and their relation to 'AdjustedCompensation'."
   ]
  },
  {
   "cell_type": "code",
   "execution_count": 15,
   "metadata": {},
   "outputs": [],
   "source": [
    "#Your code here\n",
    "import statsmodels.api as sm\n",
    "from statsmodels.formula.api import ols\n",
    "\n",
    "formula = 'AdjustedCompensation ~ C(FormalEducation)'\n",
    "lm = ols(formula, ed_comp).fit()"
   ]
  },
  {
   "cell_type": "code",
   "execution_count": 16,
   "metadata": {},
   "outputs": [
    {
     "data": {
      "text/html": [
       "<div>\n",
       "<style scoped>\n",
       "    .dataframe tbody tr th:only-of-type {\n",
       "        vertical-align: middle;\n",
       "    }\n",
       "\n",
       "    .dataframe tbody tr th {\n",
       "        vertical-align: top;\n",
       "    }\n",
       "\n",
       "    .dataframe thead th {\n",
       "        text-align: right;\n",
       "    }\n",
       "</style>\n",
       "<table border=\"1\" class=\"dataframe\">\n",
       "  <thead>\n",
       "    <tr style=\"text-align: right;\">\n",
       "      <th></th>\n",
       "      <th>sum_sq</th>\n",
       "      <th>df</th>\n",
       "      <th>F</th>\n",
       "      <th>PR(&gt;F)</th>\n",
       "    </tr>\n",
       "  </thead>\n",
       "  <tbody>\n",
       "    <tr>\n",
       "      <th>C(FormalEducation)</th>\n",
       "      <td>6.540294e+17</td>\n",
       "      <td>6.0</td>\n",
       "      <td>0.590714</td>\n",
       "      <td>0.738044</td>\n",
       "    </tr>\n",
       "    <tr>\n",
       "      <th>Residual</th>\n",
       "      <td>7.999414e+20</td>\n",
       "      <td>4335.0</td>\n",
       "      <td>NaN</td>\n",
       "      <td>NaN</td>\n",
       "    </tr>\n",
       "  </tbody>\n",
       "</table>\n",
       "</div>"
      ],
      "text/plain": [
       "                          sum_sq      df         F    PR(>F)\n",
       "C(FormalEducation)  6.540294e+17     6.0  0.590714  0.738044\n",
       "Residual            7.999414e+20  4335.0       NaN       NaN"
      ]
     },
     "metadata": {},
     "output_type": "display_data"
    }
   ],
   "source": [
    "table = sm.stats.anova_lm(lm, typ=2)\n",
    "display(table)"
   ]
  },
  {
   "cell_type": "code",
   "execution_count": 17,
   "metadata": {},
   "outputs": [
    {
     "data": {
      "text/html": [
       "<div>\n",
       "<style scoped>\n",
       "    .dataframe tbody tr th:only-of-type {\n",
       "        vertical-align: middle;\n",
       "    }\n",
       "\n",
       "    .dataframe tbody tr th {\n",
       "        vertical-align: top;\n",
       "    }\n",
       "\n",
       "    .dataframe thead th {\n",
       "        text-align: right;\n",
       "    }\n",
       "</style>\n",
       "<table border=\"1\" class=\"dataframe\">\n",
       "  <thead>\n",
       "    <tr style=\"text-align: right;\">\n",
       "      <th></th>\n",
       "      <th>sum_sq</th>\n",
       "      <th>df</th>\n",
       "      <th>F</th>\n",
       "      <th>PR(&gt;F)</th>\n",
       "    </tr>\n",
       "  </thead>\n",
       "  <tbody>\n",
       "    <tr>\n",
       "      <th>C(FormalEducation)</th>\n",
       "      <td>5.306853e+11</td>\n",
       "      <td>6.0</td>\n",
       "      <td>30.558557</td>\n",
       "      <td>4.061426e-36</td>\n",
       "    </tr>\n",
       "    <tr>\n",
       "      <th>Residual</th>\n",
       "      <td>1.244287e+13</td>\n",
       "      <td>4299.0</td>\n",
       "      <td>NaN</td>\n",
       "      <td>NaN</td>\n",
       "    </tr>\n",
       "  </tbody>\n",
       "</table>\n",
       "</div>"
      ],
      "text/plain": [
       "                          sum_sq      df          F        PR(>F)\n",
       "C(FormalEducation)  5.306853e+11     6.0  30.558557  4.061426e-36\n",
       "Residual            1.244287e+13  4299.0        NaN           NaN"
      ]
     },
     "metadata": {},
     "output_type": "display_data"
    }
   ],
   "source": [
    "# Now without outliers\n",
    "\n",
    "df = ed_comp[ed_comp['AdjustedCompensation'] <= threshold]\n",
    "formula = 'AdjustedCompensation ~ C(FormalEducation)'\n",
    "lm = ols(formula, df).fit()\n",
    "table = sm.stats.anova_lm(lm, typ=2)\n",
    "display(table)"
   ]
  },
  {
   "cell_type": "markdown",
   "metadata": {},
   "source": [
    "## Additional Resources\n",
    "\n",
    "Here's the original source where the data was taken from:  \n",
    "    [Kaggle Machine Learning & Data Science Survey 2017](https://www.kaggle.com/kaggle/kaggle-survey-2017)"
   ]
  },
  {
   "cell_type": "markdown",
   "metadata": {},
   "source": [
    "## Summary\n",
    "\n",
    "In this lab, you practiced conducting actual hypothesis tests on actual data. From this, you saw how dependent results can be on the initial problem formulation, including preprocessing!"
   ]
  }
 ],
 "metadata": {
  "kernelspec": {
   "display_name": "Python 3",
   "language": "python",
   "name": "python3"
  },
  "language_info": {
   "codemirror_mode": {
    "name": "ipython",
    "version": 3
   },
   "file_extension": ".py",
   "mimetype": "text/x-python",
   "name": "python",
   "nbconvert_exporter": "python",
   "pygments_lexer": "ipython3",
   "version": "3.8.5"
  },
  "toc": {
   "base_numbering": 1,
   "nav_menu": {},
   "number_sections": true,
   "sideBar": true,
   "skip_h1_title": false,
   "title_cell": "Table of Contents",
   "title_sidebar": "Contents",
   "toc_cell": false,
   "toc_position": {},
   "toc_section_display": true,
   "toc_window_display": false
  }
 },
 "nbformat": 4,
 "nbformat_minor": 2
}
